{
 "cells": [
  {
   "cell_type": "code",
   "execution_count": 12,
   "metadata": {},
   "outputs": [],
   "source": [
    "import multiprocessing\n",
    "import os\n",
    "import numpy as np\n",
    "import json\n",
    "import math\n",
    "import threading"
   ]
  },
  {
   "cell_type": "code",
   "execution_count": 13,
   "metadata": {},
   "outputs": [],
   "source": [
    "movies_path = os.path.join(os.path.join(os.getcwd(),'Datasets'),'movies_dataset')\n",
    "\n",
    "user_based_dict_path = os.path.join(movies_path,'utility_matrix_user_based.txt')\n",
    "item_based_dict_path = os.path.join(movies_path,'utility_matrix_item_based.txt')\n",
    "\n",
    "\n",
    "CORES = multiprocessing.cpu_count()\n",
    "cliques = {}"
   ]
  },
  {
   "cell_type": "code",
   "execution_count": 14,
   "metadata": {},
   "outputs": [
    {
     "output_type": "execute_result",
     "data": {
      "text/plain": "'\\nwith open(user_based_dict_path) as fr:\\n    item_based_utility = json.load(fr)\\n'"
     },
     "metadata": {},
     "execution_count": 14
    }
   ],
   "source": [
    "with open(user_based_dict_path) as fr:\n",
    "    user_based_utility = json.load(fr)\n",
    "    \n",
    "'''\n",
    "with open(user_based_dict_path) as fr:\n",
    "    item_based_utility = json.load(fr)\n",
    "'''    "
   ]
  },
  {
   "cell_type": "code",
   "execution_count": 15,
   "metadata": {},
   "outputs": [],
   "source": [
    "user_based_correct = {}\n",
    "\n",
    "for key1 in user_based_utility.keys():\n",
    "    for key2 in user_based_utility[key1].keys():\n",
    "\n",
    "        key11 = float(key1)\n",
    "        key22 = float(key2)\n",
    "\n",
    "        if(user_based_correct.get(key11) == None):\n",
    "            user_based_correct[key11] = {}\n",
    "        \n",
    "        user_based_correct[key11][key22] = float(user_based_utility[key1][key2])\n",
    "\n",
    "user_based_utility = user_based_correct"
   ]
  },
  {
   "cell_type": "code",
   "execution_count": 6,
   "metadata": {},
   "outputs": [
    {
     "output_type": "error",
     "ename": "NameError",
     "evalue": "name 'item_based_utility' is not defined",
     "traceback": [
      "\u001b[0;31m---------------------------------------------------------------------------\u001b[0m",
      "\u001b[0;31mNameError\u001b[0m                                 Traceback (most recent call last)",
      "\u001b[0;32m<ipython-input-6-96d936dc9e1a>\u001b[0m in \u001b[0;36m<module>\u001b[0;34m\u001b[0m\n\u001b[1;32m      1\u001b[0m \u001b[0;31m# items are casted to float\u001b[0m\u001b[0;34m\u001b[0m\u001b[0;34m\u001b[0m\u001b[0m\n\u001b[1;32m      2\u001b[0m \u001b[0;34m\u001b[0m\u001b[0m\n\u001b[0;32m----> 3\u001b[0;31m \u001b[0mitems\u001b[0m \u001b[0;34m=\u001b[0m \u001b[0mnp\u001b[0m\u001b[0;34m.\u001b[0m\u001b[0marray\u001b[0m\u001b[0;34m(\u001b[0m\u001b[0mlist\u001b[0m\u001b[0;34m(\u001b[0m\u001b[0mitem_based_utility\u001b[0m\u001b[0;34m.\u001b[0m\u001b[0mkeys\u001b[0m\u001b[0;34m(\u001b[0m\u001b[0;34m)\u001b[0m\u001b[0;34m)\u001b[0m\u001b[0;34m)\u001b[0m\u001b[0;34m.\u001b[0m\u001b[0mastype\u001b[0m\u001b[0;34m(\u001b[0m\u001b[0mnp\u001b[0m\u001b[0;34m.\u001b[0m\u001b[0mint\u001b[0m\u001b[0;34m)\u001b[0m\u001b[0;34m\u001b[0m\u001b[0m\n\u001b[0m\u001b[1;32m      4\u001b[0m \u001b[0;34m\u001b[0m\u001b[0m\n\u001b[1;32m      5\u001b[0m \u001b[0mitems\u001b[0m\u001b[0;34m\u001b[0m\u001b[0m\n",
      "\u001b[0;31mNameError\u001b[0m: name 'item_based_utility' is not defined"
     ]
    }
   ],
   "source": [
    "# items are casted to float\n",
    "\n",
    "items = np.array(list(item_based_utility.keys())).astype(np.int)\n",
    "\n",
    "items"
   ]
  },
  {
   "cell_type": "code",
   "execution_count": 16,
   "metadata": {},
   "outputs": [],
   "source": [
    "# divide the dataset in 4 folds to perform 4-folds cross validation\n",
    "\n",
    "num_folds = 4\n",
    "folds = [{}]*num_folds\n",
    "\n",
    "for key1 in user_based_utility.keys():\n",
    "    for key2 in user_based_utility[key1].keys():\n",
    "        rand_index = np.random.randint(num_folds)\n",
    "        \n",
    "        tmp_dict = folds[rand_index]\n",
    "\n",
    "        if(tmp_dict.get(key1) == None):\n",
    "            tmp_dict[key1] = {}\n",
    "        \n",
    "        tmp_dict[key1][key2] = user_based_utility[key1][key2]\n",
    "    "
   ]
  },
  {
   "cell_type": "code",
   "execution_count": 17,
   "metadata": {},
   "outputs": [],
   "source": [
    "def merge_dicts(dicts):\n",
    "    ret = {}\n",
    "\n",
    "    for i in range(len(dicts)):\n",
    "        tmp_dict = dicts[i]\n",
    "        for key1 in tmp_dict.keys():\n",
    "            for key2 in tmp_dict[key1].keys():\n",
    "\n",
    "                if(ret.get(key1)==None):\n",
    "                    ret[key1] = {}\n",
    "                ret[key1][key2] = tmp_dict[key1][key2]\n",
    "\n",
    "    return ret"
   ]
  },
  {
   "cell_type": "code",
   "execution_count": 18,
   "metadata": {},
   "outputs": [],
   "source": [
    "train_dict = merge_dicts([fold for fold in folds[:3]])\n",
    "test_dict = folds[3] "
   ]
  },
  {
   "cell_type": "code",
   "execution_count": 19,
   "metadata": {},
   "outputs": [],
   "source": [
    "\"\"\"\n",
    "    Calculates the average value of the \n",
    "    valeues in a\n",
    "\n",
    "    a -> dictionary of non zero values \n",
    "\"\"\"\n",
    "def avg(a):\n",
    "    i=0\n",
    "    tot = 0\n",
    "    for k in a.keys():\n",
    "        i +=1\n",
    "        tot += a.get(k)\n",
    "    \n",
    "    return tot/i\n",
    "\n",
    "\"\"\"\n",
    "    Calculates a new dictionary that for each\n",
    "    non null value of a has that values - const\n",
    "\n",
    "    returns a - const\n",
    "\n",
    "    a -> dictioary of non zero values\n",
    "\"\"\"\n",
    "def scale(a,const):\n",
    "    ret = {}\n",
    "    \n",
    "    for k in a.keys():\n",
    "        ret[k] = a.get(k) - const\n",
    "    \n",
    "    return ret\n",
    "\n",
    "\"\"\"\n",
    "    calculates the norm of a dictionary\n",
    "\n",
    "    a -> dictioary of non zero values\n",
    "\"\"\"\n",
    "def norm (a):\n",
    "    tot = 0\n",
    "    for k in a.keys():\n",
    "        tot += pow(a.get(k),2) \n",
    "\n",
    "    return math.sqrt(tot)\n",
    "\n",
    "\"\"\"\n",
    "    computes the inner product of two dictionaries\n",
    "\n",
    "    a -> dictioary of non zero values\n",
    "    b -> dictioary of non zero values\n",
    "\n",
    "\"\"\"\n",
    "def inner_product(a,b):\n",
    "    tot = 0\n",
    "    for k in a.keys():\n",
    "        b_tmp = b.get(k)\n",
    "        if(b_tmp != None):\n",
    "            tot += b_tmp * a.get(k) \n",
    "\n",
    "    return tot"
   ]
  },
  {
   "cell_type": "code",
   "execution_count": 20,
   "metadata": {},
   "outputs": [],
   "source": [
    "def compute_correlation_coefficent(a,b, is_explicit):\n",
    "\n",
    "    a_scaled = a\n",
    "    b_scaled = b\n",
    "\n",
    "    if(is_explicit):\n",
    "        avg_a = avg(a)\n",
    "        avg_b = avg(b)\n",
    "\n",
    "        a_scaled = scale(a, avg_a)\n",
    "        b_scaled = scale(b, avg_b)\n",
    "\n",
    "    a_scaled_norm = norm(a_scaled)\n",
    "    b_scaled_norm = norm(b_scaled)\n",
    "\n",
    "    if(a_scaled_norm == 0 or b_scaled_norm == 0):\n",
    "        print('One of the two vectors has 0 norm, returning 0.')\n",
    "        return 0 \n",
    "\n",
    "    sim = inner_product(a_scaled,b_scaled)/(a_scaled_norm*b_scaled_norm)\n",
    "\n",
    "    return sim"
   ]
  },
  {
   "cell_type": "code",
   "execution_count": 39,
   "metadata": {},
   "outputs": [],
   "source": [
    "class ComputeCorrelationCoefficentThread (threading.Thread):\n",
    "   def __init__(self, user_dict, user_ids, utility_matrix, is_explicit, name = None):\n",
    "      threading.Thread.__init__(self)\n",
    "      self.name = name\n",
    "      self.user_dict = user_dict\n",
    "      self.user_ids = user_ids\n",
    "      self.is_explicit = is_explicit\n",
    "      self.utility_matrix = utility_matrix\n",
    "      self.result = None\n",
    "   \n",
    "   def run(self):\n",
    "      if self.name == None:\n",
    "         raise Exception('Something bad happened, thread has no name')\n",
    "      print('Thread {} started'.format(self.name))\n",
    "      self.compute_similarities()\n",
    "\n",
    "   \n",
    "   def compute_similarities(self):\n",
    "      similarities = []\n",
    "      for user in self.user_ids:\n",
    "         tmp_user_dict = self.utility_matrix[user]\n",
    "         similarity = compute_correlation_coefficent(self.user_dict, tmp_user_dict, self.is_explicit)\n",
    "         similarities.append([user,similarity])\n",
    "      \n",
    "      self.result = similarities\n",
    "\n",
    "   # vector of similarities --> [userID, sim_score]\n",
    "   def join(self):\n",
    "        threading.Thread.join(self)\n",
    "        if self.result is not None:\n",
    "            return self.result\n",
    "        else:\n",
    "            print('Error using threads, result is None')"
   ]
  },
  {
   "cell_type": "code",
   "execution_count": null,
   "metadata": {},
   "outputs": [],
   "source": [
    "def make_partitions(num_folds, data):\n",
    "    data_size = len(data)\n",
    "    fold_size = data_size // num_folds\n",
    "    partitions = []\n",
    "    for idx in range(num_folds-1):\n",
    "        partitions.append(data[idx*fold_size:(idx+1)*fold_size])\n",
    "    partitions.append(data[idx*fold_size:])\n",
    "    return partitions"
   ]
  },
  {
   "cell_type": "code",
   "execution_count": 41,
   "metadata": {},
   "outputs": [],
   "source": [
    "\"\"\"\n",
    "    Returns the prediction of the rating\n",
    "    that the user x cuold give to item i\n",
    "\n",
    "    x -> userID\n",
    "    explicit -> explicit dictionary of all the users\n",
    "        explicit[user][item] = rating from that user to that item\n",
    "        if present\n",
    "    i -> itemID\n",
    "    k -> number of users to return\n",
    "\"\"\"\n",
    "def compute_clique_without_implicit(user, utility_matrix, clique_size):\n",
    "\n",
    "    unique_users = list(set(utility_matrix.keys()))\n",
    "    user_dict = utility_matrix[user]\n",
    "    partitions = make_partitions(CORES,unique_users)    \n",
    "        \n",
    "\n",
    "    threads = []\n",
    "    for idx in range(CORES):\n",
    "        name = \"Thread-{}\".format(idx)\n",
    "        thread = ComputeCorrelationCoefficentThread(name = name, \n",
    "                                                user_dict = user_dict, \n",
    "                                                user_ids = partitions[idx], \n",
    "                                                utility_matrix = utility_matrix, \n",
    "                                                is_explicit = True)\n",
    "        threads.append(thread)\n",
    "\n",
    "    \n",
    "    [thread.start() for thread in threads]    \n",
    "    print('======= all threads started =======')\n",
    "\n",
    "    results = [thread.join() for thread in threads]\n",
    "    print('======= all threads joined =======')\n",
    "    \n",
    "    similarities = []\n",
    "    for elem in results:\n",
    "        for similarity in elem:\n",
    "            similarities.append(similarity)\n",
    "    \n",
    "    similarities = np.array(similarities)\n",
    "    clique = similarities[np.argsort(similarities[:,1])[::-1]][1:clique_size+1]\n",
    "\n",
    "    return clique"
   ]
  },
  {
   "cell_type": "code",
   "execution_count": 60,
   "metadata": {},
   "outputs": [],
   "source": [
    "def predict(user, item, clique, utility_matrix):\n",
    "    numerator = 0\n",
    "    denominator = 0\n",
    "    for elem in clique:\n",
    "        neighbor = elem[0]\n",
    "        similarity = elem[1]\n",
    "\n",
    "        neigh_dict = utility_matrix[neighbor]\n",
    "        rating = neigh_dict.get(item)\n",
    "        \n",
    "        if  rating == None:\n",
    "            continue\n",
    "\n",
    "        numerator += rating*similarity\n",
    "        denominator += similarity\n",
    "    \n",
    "    if denominator == 0:\n",
    "        print('denominator is 0, no user in the clique rated this item')\n",
    "        return -1\n",
    "    \n",
    "    return numerator/denominator\n",
    "        "
   ]
  },
  {
   "cell_type": "code",
   "execution_count": 42,
   "metadata": {
    "tags": [
     "outputPrepend"
    ]
   },
   "outputs": [
    {
     "output_type": "stream",
     "name": "stdout",
     "text": " of the two vectors has 0 norm, returning 0.\nOne of the two vectors has 0 norm, returning 0.One of the two vectors has 0 norm, returning 0.\nOne of the two vectors has 0 norm, returning 0.\n\nOne of the two vectors has 0 norm, returning 0.\nOne of the two vectors has 0 norm, returning 0.\nOne of the two vectors has 0 norm, returning 0.\nOne of the two vectors has 0 norm, returning 0.One of the two vectors has 0 norm, returning 0.\nOne of the two vectors has 0 norm, returning 0.\nOne of the two vectors has 0 norm, returning 0.\nOne of the two vectors has 0 norm, returning 0.\nOne of the two vectors has 0 norm, returning 0.\nOne of the two vectors has 0 norm, returning 0.\nOne of the two vectors has 0 norm, returning 0.\nOne of the two vectors has 0 norm, returning 0.\nOne of the two vectors has 0 norm, returning 0.\nOne of the two vectors has 0 norm, returning 0.\n\nOne of the two vectors has 0 norm, returning 0.\nOne of the two vectors has 0 norm, returning 0.\nOne of the two vectors has 0 norm, returning 0.\nOne of the two vectors has 0 norm, returning 0.\nOne of the two vectors has 0 norm, returning 0.One of the two vectors has 0 norm, returning 0.\n\nOne of the two vectors has 0 norm, returning 0.One of the two vectors has 0 norm, returning 0.\nOne of the two vectors has 0 norm, returning 0.\n\nOne of the two vectors has 0 norm, returning 0.\nOne of the two vectors has 0 norm, returning 0.\nOne of the two vectors has 0 norm, returning 0.\nOne of the two vectors has 0 norm, returning 0.\nOne of the two vectors has 0 norm, returning 0.\nOne of the two vectors has 0 norm, returning 0.\nOne of the two vectors has 0 norm, returning 0.\nOne of the two vectors has 0 norm, returning 0.\nOne of the two vectors has 0 norm, returning 0.\nOne of the two vectors has 0 norm, returning 0.\nOne of the two vectors has 0 norm, returning 0.\nOne of the two vectors has 0 norm, returning 0.\nOne of the two vectors has 0 norm, returning 0.\nOne of the two vectors has 0 norm, returning 0.\nOne of the two vectors has 0 norm, returning 0.\nOne of the two vectors has 0 norm, returning 0.\nOne of the two vectors has 0 norm, returning 0.One of the two vectors has 0 norm, returning 0.\nOne of the two vectors has 0 norm, returning 0.\nOne of the two vectors has 0 norm, returning 0.\nOne of the two vectors has 0 norm, returning 0.\nOne of the two vectors has 0 norm, returning 0.\nOne of the two vectors has 0 norm, returning 0.\nOne of the two vectors has 0 norm, returning 0.\nOne of the two vectors has 0 norm, returning 0.\nOne of the two vectors has 0 norm, returning 0.\nOne of the two vectors has 0 norm, returning 0.\nOne of the two vectors has 0 norm, returning 0.\nOne of the two vectors has 0 norm, returning 0.\nOne of the two vectors has 0 norm, returning 0.\n\nOne of the two vectors has 0 norm, returning 0.\nOne of the two vectors has 0 norm, returning 0.\nOne of the two vectors has 0 norm, returning 0.\nOne of the two vectors has 0 norm, returning 0.\nOne of the two vectors has 0 norm, returning 0.\nOne of the two vectors has 0 norm, returning 0.One of the two vectors has 0 norm, returning 0.\nOne of the two vectors has 0 norm, returning 0.\nOne of the two vectors has 0 norm, returning 0.\n\nOne of the two vectors has 0 norm, returning 0.\nOne of the two vectors has 0 norm, returning 0.\nOne of the two vectors has 0 norm, returning 0.\nOne of the two vectors has 0 norm, returning 0.\nOne of the two vectors has 0 norm, returning 0.\nOne of the two vectors has 0 norm, returning 0.\nOne of the two vectors has 0 norm, returning 0.\nOne of the two vectors has 0 norm, returning 0.\nOne of the two vectors has 0 norm, returning 0.\nOne of the two vectors has 0 norm, returning 0.\nOne of the two vectors has 0 norm, returning 0.\nOne of the two vectors has 0 norm, returning 0.\nOne of the two vectors has 0 norm, returning 0.\nOne of the two vectors has 0 norm, returning 0.\nOne of the two vectors has 0 norm, returning 0.\nOne of the two vectors has 0 norm, returning 0.One of the two vectors has 0 norm, returning 0.\n\nOne of the two vectors has 0 norm, returning 0.\nOne of the two vectors has 0 norm, returning 0.\nOne of the two vectors has 0 norm, returning 0.\nOne of the two vectors has 0 norm, returning 0.\nOne of the two vectors has 0 norm, returning 0.\nOne of the two vectors has 0 norm, returning 0.\nOne of the two vectors has 0 norm, returning 0.\nOne of the two vectors has 0 norm, returning 0.One of the two vectors has 0 norm, returning 0.One of the two vectors has 0 norm, returning 0.\nOne of the two vectors has 0 norm, returning 0.\n\n\nOne of the two vectors has 0 norm, returning 0.\nOne of the two vectors has 0 norm, returning 0.\nOne of the two vectors has 0 norm, returning 0.\nOne of the two vectors has 0 norm, returning 0.\nOne of the two vectors has 0 norm, returning 0.\nOne of the two vectors has 0 norm, returning 0.\nOne of the two vectors has 0 norm, returning 0.\nOne of the two vectors has 0 norm, returning 0.\nOne of the two vectors has 0 norm, returning 0.\nOne of the two vectors has 0 norm, returning 0.\nOne of the two vectors has 0 norm, returning 0.\nOne of the two vectors has 0 norm, returning 0.\nOne of the two vectors has 0 norm, returning 0.\nOne of the two vectors has 0 norm, returning 0.\nOne of the two vectors has 0 norm, returning 0.\nOne of the two vectors has 0 norm, returning 0.\nOne of the two vectors has 0 norm, returning 0.\nOne of the two vectors has 0 norm, returning 0.One of the two vectors has 0 norm, returning 0.\nOne of the two vectors has 0 norm, returning 0.\nOne of the two vectors has 0 norm, returning 0.\nOne of the two vectors has 0 norm, returning 0.\nOne of the two vectors has 0 norm, returning 0.\nOne of the two vectors has 0 norm, returning 0.\nOne of the two vectors has 0 norm, returning 0.\nOne of the two vectors has 0 norm, returning 0.\nOne of the two vectors has 0 norm, returning 0.\nOne of the two vectors has 0 norm, returning 0.\nOne of the two vectors has 0 norm, returning 0.\nOne of the two vectors has 0 norm, returning 0.\nOne of the two vectors has 0 norm, returning 0.\nOne of the two vectors has 0 norm, returning 0.\nOne of the two vectors has 0 norm, returning 0.\nOne of the two vectors has 0 norm, returning 0.\n\nOne of the two vectors has 0 norm, returning 0.\nOne of the two vectors has 0 norm, returning 0.\nOne of the two vectors has 0 norm, returning 0.\nOne of the two vectors has 0 norm, returning 0.\nOne of the two vectors has 0 norm, returning 0.\nOne of the two vectors has 0 norm, returning 0.\nOne of the two vectors has 0 norm, returning 0.\nOne of the two vectors has 0 norm, returning 0.\nOne of the two vectors has 0 norm, returning 0.\nOne of the two vectors has 0 norm, returning 0.One of the two vectors has 0 norm, returning 0.One of the two vectors has 0 norm, returning 0.\nOne of the two vectors has 0 norm, returning 0.\nOne of the two vectors has 0 norm, returning 0.\nOne of the two vectors has 0 norm, returning 0.\nOne of the two vectors has 0 norm, returning 0.\n\n\nOne of the two vectors has 0 norm, returning 0.\nOne of the two vectors has 0 norm, returning 0.\nOne of the two vectors has 0 norm, returning 0.\nOne of the two vectors has 0 norm, returning 0.One of the two vectors has 0 norm, returning 0.\nOne of the two vectors has 0 norm, returning 0.\nOne of the two vectors has 0 norm, returning 0.\nOne of the two vectors has 0 norm, returning 0.\nOne of the two vectors has 0 norm, returning 0.\n\nOne of the two vectors has 0 norm, returning 0.\nOne of the two vectors has 0 norm, returning 0.\nOne of the two vectors has 0 norm, returning 0.\nOne of the two vectors has 0 norm, returning 0.\nOne of the two vectors has 0 norm, returning 0.\nOne of the two vectors has 0 norm, returning 0.\nOne of the two vectors has 0 norm, returning 0.\nOne of the two vectors has 0 norm, returning 0.One of the two vectors has 0 norm, returning 0.\nOne of the two vectors has 0 norm, returning 0.\nOne of the two vectors has 0 norm, returning 0.\nOne of the two vectors has 0 norm, returning 0.\nOne of the two vectors has 0 norm, returning 0.\nOne of the two vectors has 0 norm, returning 0.One of the two vectors has 0 norm, returning 0.\n\nOne of the two vectors has 0 norm, returning 0.\nOne of the two vectors has 0 norm, returning 0.\nOne of the two vectors has 0 norm, returning 0.\nOne of the two vectors has 0 norm, returning 0.\nOne of the two vectors has 0 norm, returning 0.\nOne of the two vectors has 0 norm, returning 0.\nOne of the two vectors has 0 norm, returning 0.\n\nOne of the two vectors has 0 norm, returning 0.\nOne of the two vectors has 0 norm, returning 0.\nOne of the two vectors has 0 norm, returning 0.\nOne of the two vectors has 0 norm, returning 0.\nOne of the two vectors has 0 norm, returning 0.\nOne of the two vectors has 0 norm, returning 0.\nOne of the two vectors has 0 norm, returning 0.\nOne of the two vectors has 0 norm, returning 0.\nOne of the two vectors has 0 norm, returning 0.\nOne of the two vectors has 0 norm, returning 0.\nOne of the two vectors has 0 norm, returning 0.\nOne of the two vectors has 0 norm, returning 0.\nOne of the two vectors has 0 norm, returning 0.\nOne of the two vectors has 0 norm, returning 0.\nOne of the two vectors has 0 norm, returning 0.\nOne of the two vectors has 0 norm, returning 0.\nOne of the two vectors has 0 norm, returning 0.\nOne of the two vectors has 0 norm, returning 0.\nOne of the two vectors has 0 norm, returning 0.\nOne of the two vectors has 0 norm, returning 0.\nOne of the two vectors has 0 norm, returning 0.\nOne of the two vectors has 0 norm, returning 0.One of the two vectors has 0 norm, returning 0.\nOne of the two vectors has 0 norm, returning 0.\nOne of the two vectors has 0 norm, returning 0.\n\nOne of the two vectors has 0 norm, returning 0.\nOne of the two vectors has 0 norm, returning 0.\nOne of the two vectors has 0 norm, returning 0.\nOne of the two vectors has 0 norm, returning 0.\nOne of the two vectors has 0 norm, returning 0.\nOne of the two vectors has 0 norm, returning 0.\nOne of the two vectors has 0 norm, returning 0.\nOne of the two vectors has 0 norm, returning 0.\nOne of the two vectors has 0 norm, returning 0.\nOne of the two vectors has 0 norm, returning 0.One of the two vectors has 0 norm, returning 0.\nOne of the two vectors has 0 norm, returning 0.\n\nOne of the two vectors has 0 norm, returning 0.\nOne of the two vectors has 0 norm, returning 0.\nOne of the two vectors has 0 norm, returning 0.\nOne of the two vectors has 0 norm, returning 0.\nOne of the two vectors has 0 norm, returning 0.\nOne of the two vectors has 0 norm, returning 0.\nOne of the two vectors has 0 norm, returning 0.\nOne of the two vectors has 0 norm, returning 0.\nOne of the two vectors has 0 norm, returning 0.\nOne of the two vectors has 0 norm, returning 0.\nOne of the two vectors has 0 norm, returning 0.\nOne of the two vectors has 0 norm, returning 0.\nOne of the two vectors has 0 norm, returning 0.\nOne of the two vectors has 0 norm, returning 0.\nOne of the two vectors has 0 norm, returning 0.\nOne of the two vectors has 0 norm, returning 0.\nOne of the two vectors has 0 norm, returning 0.\nOne of the two vectors has 0 norm, returning 0.\nOne of the two vectors has 0 norm, returning 0.One of the two vectors has 0 norm, returning 0.\n\nOne of the two vectors has 0 norm, returning 0.\nOne of the two vectors has 0 norm, returning 0.\nOne of the two vectors has 0 norm, returning 0.\nOne of the two vectors has 0 norm, returning 0.One of the two vectors has 0 norm, returning 0.\n\nOne of the two vectors has 0 norm, returning 0.\nOne of the two vectors has 0 norm, returning 0.\nOne of the two vectors has 0 norm, returning 0.\nOne of the two vectors has 0 norm, returning 0.\nOne of the two vectors has 0 norm, returning 0.\nOne of the two vectors has 0 norm, returning 0.\nOne of the two vectors has 0 norm, returning 0.\nOne of the two vectors has 0 norm, returning 0.\nOne of the two vectors has 0 norm, returning 0.\nOne of the two vectors has 0 norm, returning 0.\nOne of the two vectors has 0 norm, returning 0.\nOne of the two vectors has 0 norm, returning 0.\nOne of the two vectors has 0 norm, returning 0.\nOne of the two vectors has 0 norm, returning 0.One of the two vectors has 0 norm, returning 0.\nOne of the two vectors has 0 norm, returning 0.\nOne of the two vectors has 0 norm, returning 0.\nOne of the two vectors has 0 norm, returning 0.\n\nOne of the two vectors has 0 norm, returning 0.\nOne of the two vectors has 0 norm, returning 0.One of the two vectors has 0 norm, returning 0.\nOne of the two vectors has 0 norm, returning 0.\n\nOne of the two vectors has 0 norm, returning 0.\nOne of the two vectors has 0 norm, returning 0.\nOne of the two vectors has 0 norm, returning 0.One of the two vectors has 0 norm, returning 0.\n\nOne of the two vectors has 0 norm, returning 0.\nOne of the two vectors has 0 norm, returning 0.\nOne of the two vectors has 0 norm, returning 0.\nOne of the two vectors has 0 norm, returning 0.\nOne of the two vectors has 0 norm, returning 0.\nOne of the two vectors has 0 norm, returning 0.\nOne of the two vectors has 0 norm, returning 0.\nOne of the two vectors has 0 norm, returning 0.\nOne of the two vectors has 0 norm, returning 0.\nOne of the two vectors has 0 norm, returning 0.\nOne of the two vectors has 0 norm, returning 0.\nOne of the two vectors has 0 norm, returning 0.\nOne of the two vectors has 0 norm, returning 0.\nOne of the two vectors has 0 norm, returning 0.\nOne of the two vectors has 0 norm, returning 0.\nOne of the two vectors has 0 norm, returning 0.\nOne of the two vectors has 0 norm, returning 0.\nOne of the two vectors has 0 norm, returning 0.\nOne of the two vectors has 0 norm, returning 0.\nOne of the two vectors has 0 norm, returning 0.\nOne of the two vectors has 0 norm, returning 0.\nOne of the two vectors has 0 norm, returning 0.One of the two vectors has 0 norm, returning 0.One of the two vectors has 0 norm, returning 0.\nOne of the two vectors has 0 norm, returning 0.\n\n\nOne of the two vectors has 0 norm, returning 0.\nOne of the two vectors has 0 norm, returning 0.\nOne of the two vectors has 0 norm, returning 0.\nOne of the two vectors has 0 norm, returning 0.\nOne of the two vectors has 0 norm, returning 0.\nOne of the two vectors has 0 norm, returning 0.\nOne of the two vectors has 0 norm, returning 0.\nOne of the two vectors has 0 norm, returning 0.\nOne of the two vectors has 0 norm, returning 0.\nOne of the two vectors has 0 norm, returning 0.\nOne of the two vectors has 0 norm, returning 0.\nOne of the two vectors has 0 norm, returning 0.\nOne of the two vectors has 0 norm, returning 0.One of the two vectors has 0 norm, returning 0.\n\nOne of the two vectors has 0 norm, returning 0.\nOne of the two vectors has 0 norm, returning 0.\nOne of the two vectors has 0 norm, returning 0.\nOne of the two vectors has 0 norm, returning 0.\nOne of the two vectors has 0 norm, returning 0.\nOne of the two vectors has 0 norm, returning 0.\nOne of the two vectors has 0 norm, returning 0.\nOne of the two vectors has 0 norm, returning 0.\nOne of the two vectors has 0 norm, returning 0.\nOne of the two vectors has 0 norm, returning 0.\nOne of the two vectors has 0 norm, returning 0.\nOne of the two vectors has 0 norm, returning 0.\nOne of the two vectors has 0 norm, returning 0.\nOne of the two vectors has 0 norm, returning 0.\nOne of the two vectors has 0 norm, returning 0.One of the two vectors has 0 norm, returning 0.\nOne of the two vectors has 0 norm, returning 0.\nOne of the two vectors has 0 norm, returning 0.One of the two vectors has 0 norm, returning 0.\nOne of the two vectors has 0 norm, returning 0.\nOne of the two vectors has 0 norm, returning 0.\nOne of the two vectors has 0 norm, returning 0.\nOne of the two vectors has 0 norm, returning 0.\nOne of the two vectors has 0 norm, returning 0.\nOne of the two vectors has 0 norm, returning 0.\nOne of the two vectors has 0 norm, returning 0.\n\nOne of the two vectors has 0 norm, returning 0.\nOne of the two vectors has 0 norm, returning 0.\nOne of the two vectors has 0 norm, returning 0.\nOne of the two vectors has 0 norm, returning 0.\nOne of the two vectors has 0 norm, returning 0.One of the two vectors has 0 norm, returning 0.\n\n\nOne of the two vectors has 0 norm, returning 0.\nOne of the two vectors has 0 norm, returning 0.\nOne of the two vectors has 0 norm, returning 0.\nOne of the two vectors has 0 norm, returning 0.\nOne of the two vectors has 0 norm, returning 0.\nOne of the two vectors has 0 norm, returning 0.\nOne of the two vectors has 0 norm, returning 0.\nOne of the two vectors has 0 norm, returning 0.\nOne of the two vectors has 0 norm, returning 0.\nOne of the two vectors has 0 norm, returning 0.\nOne of the two vectors has 0 norm, returning 0.One of the two vectors has 0 norm, returning 0.\n\nOne of the two vectors has 0 norm, returning 0.\nOne of the two vectors has 0 norm, returning 0.\nOne of the two vectors has 0 norm, returning 0.\nOne of the two vectors has 0 norm, returning 0.\nOne of the two vectors has 0 norm, returning 0.\nOne of the two vectors has 0 norm, returning 0.\nOne of the two vectors has 0 norm, returning 0.\nOne of the two vectors has 0 norm, returning 0.\nOne of the two vectors has 0 norm, returning 0.\nOne of the two vectors has 0 norm, returning 0.\nOne of the two vectors has 0 norm, returning 0.\nOne of the two vectors has 0 norm, returning 0.\nOne of the two vectors has 0 norm, returning 0.\nOne of the two vectors has 0 norm, returning 0.\nOne of the two vectors has 0 norm, returning 0.\nOne of the two vectors has 0 norm, returning 0.\nOne of the two vectors has 0 norm, returning 0.\nOne of the two vectors has 0 norm, returning 0.\nOne of the two vectors has 0 norm, returning 0.\nOne of the two vectors has 0 norm, returning 0.\nOne of the two vectors has 0 norm, returning 0.\nOne of the two vectors has 0 norm, returning 0.\nOne of the two vectors has 0 norm, returning 0.\nOne of the two vectors has 0 norm, returning 0.\nOne of the two vectors has 0 norm, returning 0.\nOne of the two vectors has 0 norm, returning 0.One of the two vectors has 0 norm, returning 0.\n\nOne of the two vectors has 0 norm, returning 0.\nOne of the two vectors has 0 norm, returning 0.\nOne of the two vectors has 0 norm, returning 0.\nOne of the two vectors has 0 norm, returning 0.\nOne of the two vectors has 0 norm, returning 0.One of the two vectors has 0 norm, returning 0.\n\nOne of the two vectors has 0 norm, returning 0.\nOne of the two vectors has 0 norm, returning 0.\nOne of the two vectors has 0 norm, returning 0.\nOne of the two vectors has 0 norm, returning 0.\nOne of the two vectors has 0 norm, returning 0.\nOne of the two vectors has 0 norm, returning 0.\nOne of the two vectors has 0 norm, returning 0.\nOne of the two vectors has 0 norm, returning 0.\nOne of the two vectors has 0 norm, returning 0.\nOne of the two vectors has 0 norm, returning 0.\nOne of the two vectors has 0 norm, returning 0.\nOne of the two vectors has 0 norm, returning 0.\nOne of the two vectors has 0 norm, returning 0.\nOne of the two vectors has 0 norm, returning 0.\nOne of the two vectors has 0 norm, returning 0.\nOne of the two vectors has 0 norm, returning 0.\nOne of the two vectors has 0 norm, returning 0.\nOne of the two vectors has 0 norm, returning 0.\nOne of the two vectors has 0 norm, returning 0.\nOne of the two vectors has 0 norm, returning 0.\nOne of the two vectors has 0 norm, returning 0.\nOne of the two vectors has 0 norm, returning 0.\nOne of the two vectors has 0 norm, returning 0.\nOne of the two vectors has 0 norm, returning 0.\nOne of the two vectors has 0 norm, returning 0.\nOne of the two vectors has 0 norm, returning 0.\nOne of the two vectors has 0 norm, returning 0.\nOne of the two vectors has 0 norm, returning 0.\nOne of the two vectors has 0 norm, returning 0.\nOne of the two vectors has 0 norm, returning 0.\nOne of the two vectors has 0 norm, returning 0.\nOne of the two vectors has 0 norm, returning 0.\nOne of the two vectors has 0 norm, returning 0.\nOne of the two vectors has 0 norm, returning 0.\nOne of the two vectors has 0 norm, returning 0.\nOne of the two vectors has 0 norm, returning 0.\nOne of the two vectors has 0 norm, returning 0.\n======= all threads joined =======\n"
    },
    {
     "output_type": "execute_result",
     "data": {
      "text/plain": "array([[2.29107000e+05, 5.80643959e-01],\n       [2.29107000e+05, 5.80643959e-01],\n       [7.93300000e+03, 5.35223358e-01],\n       [2.18291000e+05, 5.19934964e-01],\n       [4.23260000e+04, 4.39534830e-01],\n       [1.20245000e+05, 4.38171981e-01],\n       [6.89000000e+02, 4.31570006e-01],\n       [8.41100000e+04, 4.15996443e-01],\n       [7.36170000e+04, 4.15614400e-01],\n       [5.15120000e+04, 4.02929549e-01],\n       [9.59930000e+04, 4.00771864e-01],\n       [1.66010000e+04, 4.00687978e-01],\n       [8.88570000e+04, 3.99241729e-01],\n       [2.17654000e+05, 3.92728827e-01],\n       [1.48878000e+05, 3.92728827e-01],\n       [1.71786000e+05, 3.91918863e-01],\n       [1.86607000e+05, 3.91801163e-01],\n       [3.11140000e+04, 3.90889984e-01],\n       [1.29480000e+04, 3.86653315e-01],\n       [3.63400000e+04, 3.85222346e-01],\n       [2.23054000e+05, 3.84993651e-01],\n       [1.06155000e+05, 3.82460369e-01],\n       [1.88889000e+05, 3.80178631e-01],\n       [1.91691000e+05, 3.74059304e-01],\n       [3.91080000e+04, 3.74007081e-01],\n       [1.02454000e+05, 3.71233535e-01],\n       [3.19640000e+04, 3.68378947e-01],\n       [8.93180000e+04, 3.66904760e-01],\n       [4.82330000e+04, 3.66463833e-01],\n       [1.54973000e+05, 3.63993327e-01],\n       [1.17531000e+05, 3.61534717e-01],\n       [1.40938000e+05, 3.59043369e-01],\n       [1.17042000e+05, 3.59030951e-01],\n       [2.59745000e+05, 3.58842933e-01],\n       [9.66780000e+04, 3.56053529e-01],\n       [4.45360000e+04, 3.53615367e-01],\n       [2.15993000e+05, 3.52986997e-01],\n       [1.20682000e+05, 3.51143646e-01],\n       [2.75200000e+03, 3.51117041e-01],\n       [6.46180000e+04, 3.49895156e-01],\n       [7.84300000e+04, 3.49407671e-01],\n       [9.20870000e+04, 3.49312611e-01],\n       [1.25996000e+05, 3.43884511e-01],\n       [7.55170000e+04, 3.43581814e-01],\n       [1.69758000e+05, 3.43569078e-01],\n       [1.02713000e+05, 3.41052633e-01],\n       [2.18229000e+05, 3.40380802e-01],\n       [2.71440000e+04, 3.40042105e-01],\n       [1.57469000e+05, 3.37745750e-01],\n       [5.96750000e+04, 3.36618525e-01],\n       [9.71580000e+04, 3.34322687e-01],\n       [5.79590000e+04, 3.33491075e-01],\n       [2.46862000e+05, 3.30521302e-01],\n       [2.46862000e+05, 3.30521302e-01],\n       [2.61902000e+05, 3.30496825e-01],\n       [2.06430000e+04, 3.30230402e-01],\n       [2.61210000e+04, 3.29232903e-01],\n       [6.05590000e+04, 3.26579928e-01],\n       [1.97469000e+05, 3.26433189e-01],\n       [1.64433000e+05, 3.25633541e-01],\n       [1.29901000e+05, 3.23655322e-01],\n       [1.79279000e+05, 3.22247233e-01],\n       [2.46552000e+05, 3.21956928e-01],\n       [2.46552000e+05, 3.21956928e-01],\n       [5.45260000e+04, 3.20698382e-01],\n       [2.04670000e+05, 3.20451251e-01],\n       [1.28464000e+05, 3.19443578e-01],\n       [2.68742000e+05, 3.19310468e-01],\n       [2.20793000e+05, 3.19186633e-01],\n       [2.15572000e+05, 3.18870835e-01],\n       [2.35829000e+05, 3.18633928e-01],\n       [2.35829000e+05, 3.18633928e-01],\n       [7.18570000e+04, 3.18080263e-01],\n       [2.54548000e+05, 3.17658766e-01],\n       [2.12506000e+05, 3.16530590e-01],\n       [2.23282000e+05, 3.16232276e-01],\n       [1.15606000e+05, 3.14907802e-01],\n       [1.97601000e+05, 3.14907802e-01],\n       [1.93054000e+05, 3.14692626e-01],\n       [2.51067000e+05, 3.12271055e-01],\n       [1.85254000e+05, 3.11660223e-01],\n       [2.44642000e+05, 3.11414918e-01],\n       [2.44642000e+05, 3.11414918e-01],\n       [2.55665000e+05, 3.10414552e-01],\n       [5.02760000e+04, 3.09615693e-01],\n       [1.39120000e+04, 3.05218365e-01],\n       [8.85600000e+04, 3.04821039e-01],\n       [2.03114000e+05, 3.04696619e-01],\n       [1.52253000e+05, 3.04487770e-01],\n       [1.80246000e+05, 3.04142905e-01],\n       [5.53520000e+04, 3.02456312e-01],\n       [2.38149000e+05, 3.01072654e-01],\n       [2.38149000e+05, 3.01072654e-01],\n       [1.26132000e+05, 3.00964267e-01],\n       [1.34435000e+05, 2.97554990e-01],\n       [1.67107000e+05, 2.97536842e-01],\n       [1.30114000e+05, 2.97227480e-01],\n       [1.73071000e+05, 2.96091648e-01],\n       [8.18390000e+04, 2.95175085e-01],\n       [3.91380000e+04, 2.95096883e-01]])"
     },
     "metadata": {},
     "execution_count": 42
    }
   ],
   "source": [
    "user = list(test_dict.keys())[0]    \n",
    "print('user:{}'.format(user))\n",
    "\n",
    "clique = compute_clique_without_implicit(user, train_dict, 100)"
   ]
  },
  {
   "cell_type": "code",
   "execution_count": 66,
   "metadata": {
    "tags": []
   },
   "outputs": [
    {
     "output_type": "stream",
     "name": "stdout",
     "text": "denominator is 0, no user in the clique rated this item\ndenominator is 0, no user in the clique rated this item\ndenominator is 0, no user in the clique rated this item\ndenominator is 0, no user in the clique rated this item\ndenominator is 0, no user in the clique rated this item\ndenominator is 0, no user in the clique rated this item\n[[ 3.37940000e+04  4.25298928e+00  4.00000000e+00]\n [ 9.88090000e+04  1.97262313e+00  5.00000000e-01]\n [ 1.22100000e+03  4.66434470e+00  5.00000000e+00]\n [ 6.83580000e+04  5.00000000e+00  5.00000000e+00]\n [ 5.57700000e+03 -1.00000000e+00  5.00000000e+00]\n [ 2.76200000e+03  4.44735375e+00  4.50000000e+00]\n [ 4.22600000e+03  4.51616960e+00  4.00000000e+00]\n [ 4.87800000e+03  5.00000000e+00  5.00000000e+00]\n [ 2.95900000e+03  4.63784546e+00  4.00000000e+00]\n [ 1.47000000e+02 -1.00000000e+00  4.50000000e+00]\n [ 6.98440000e+04  5.00000000e+00  5.00000000e+00]\n [ 9.15420000e+04 -1.00000000e+00  5.00000000e+00]\n [ 9.24390000e+04 -1.00000000e+00  5.00000000e+00]\n [ 8.58000000e+02  4.80478135e+00  5.00000000e+00]\n [ 1.24600000e+03  4.55898072e+00  5.00000000e+00]\n [ 2.91800000e+03  5.00000000e+00  5.00000000e+00]\n [ 5.45030000e+04 -1.00000000e+00  3.50000000e+00]\n [ 1.12552000e+05  4.36778643e+00  5.00000000e+00]\n [ 8.18340000e+04  4.47321765e+00  5.00000000e+00]\n [ 9.15000000e+04  2.69050150e+00  2.50000000e+00]\n [ 1.10000000e+02  2.05620953e+00  1.00000000e+00]\n [ 1.96800000e+03  4.00000000e+00  4.00000000e+00]\n [ 5.93150000e+04  4.16152521e+00  5.00000000e+00]\n [ 9.68210000e+04  5.00000000e+00  5.00000000e+00]\n [ 7.30170000e+04 -1.00000000e+00  5.00000000e+00]\n [ 9.91140000e+04  4.58045568e+00  4.00000000e+00]\n [ 5.85590000e+04  4.40279085e+00  4.00000000e+00]]\n"
    }
   ],
   "source": [
    "test_items = list(test_dict[user].keys())\n",
    "\n",
    "predictions = np.array([ [item, predict(user, item, clique, train_dict), test_dict[user][item]] for item in test_items])\n",
    "print(predictions)"
   ]
  },
  {
   "cell_type": "code",
   "execution_count": null,
   "metadata": {},
   "outputs": [],
   "source": []
  }
 ],
 "metadata": {
  "language_info": {
   "codemirror_mode": {
    "name": "ipython",
    "version": 3
   },
   "file_extension": ".py",
   "mimetype": "text/x-python",
   "name": "python",
   "nbconvert_exporter": "python",
   "pygments_lexer": "ipython3",
   "version": 3
  },
  "orig_nbformat": 2,
  "kernelspec": {
   "name": "python_defaultSpec_1593962748984",
   "display_name": "Python 3.5.9 64-bit"
  }
 },
 "nbformat": 4,
 "nbformat_minor": 2
}