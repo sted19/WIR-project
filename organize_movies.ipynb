{
 "cells": [
  {
   "cell_type": "code",
   "execution_count": 29,
   "metadata": {},
   "outputs": [],
   "source": [
    "import pandas as pd\n",
    "import os\n",
    "import json"
   ]
  },
  {
   "cell_type": "code",
   "execution_count": 2,
   "metadata": {},
   "outputs": [],
   "source": [
    "movies_path = os.path.join(os.path.join(os.getcwd(),'Datasets'),'movies_dataset')\n",
    "\n",
    "metadata_path = os.path.join(movies_path,'movies_metadata.csv')\n",
    "ratings_path = os.path.join(movies_path,'ratings.csv')"
   ]
  },
  {
   "cell_type": "code",
   "execution_count": 6,
   "metadata": {},
   "outputs": [],
   "source": [
    "metadata = pd.read_csv(metadata_path)\n",
    "ratings = pd.read_csv(ratings_path, nrows=100)"
   ]
  },
  {
   "cell_type": "code",
   "execution_count": 43,
   "metadata": {
    "tags": []
   },
   "outputs": [
    {
     "output_type": "stream",
     "name": "stdout",
     "text": "{'name': 'Animation', 'id': 16}\n"
    }
   ],
   "source": [
    "genres = metadata.genres\n",
    "\n",
    "\n",
    "genre_list = eval(genres[0])\n",
    "print(genre_list[0])\n",
    "\n",
    "for genre in genres:\n",
    "    genre_list = eval(genre)\n",
    "    for genre_dict in genre_list:\n",
    "        name = genre_dict[\"name\"]\n",
    "        id_ = genre_dict[\"id\"]\n",
    "        \n",
    "    break\n"
   ]
  },
  {
   "cell_type": "code",
   "execution_count": 7,
   "metadata": {},
   "outputs": [
    {
     "output_type": "execute_result",
     "data": {
      "text/html": "<div>\n<style scoped>\n    .dataframe tbody tr th:only-of-type {\n        vertical-align: middle;\n    }\n\n    .dataframe tbody tr th {\n        vertical-align: top;\n    }\n\n    .dataframe thead th {\n        text-align: right;\n    }\n</style>\n<table border=\"1\" class=\"dataframe\">\n  <thead>\n    <tr style=\"text-align: right;\">\n      <th></th>\n      <th>userId</th>\n      <th>movieId</th>\n      <th>rating</th>\n      <th>timestamp</th>\n    </tr>\n  </thead>\n  <tbody>\n    <tr>\n      <th>0</th>\n      <td>1</td>\n      <td>110</td>\n      <td>1.0</td>\n      <td>1425941529</td>\n    </tr>\n    <tr>\n      <th>1</th>\n      <td>1</td>\n      <td>147</td>\n      <td>4.5</td>\n      <td>1425942435</td>\n    </tr>\n    <tr>\n      <th>2</th>\n      <td>1</td>\n      <td>858</td>\n      <td>5.0</td>\n      <td>1425941523</td>\n    </tr>\n    <tr>\n      <th>3</th>\n      <td>1</td>\n      <td>1221</td>\n      <td>5.0</td>\n      <td>1425941546</td>\n    </tr>\n    <tr>\n      <th>4</th>\n      <td>1</td>\n      <td>1246</td>\n      <td>5.0</td>\n      <td>1425941556</td>\n    </tr>\n    <tr>\n      <th>...</th>\n      <td>...</td>\n      <td>...</td>\n      <td>...</td>\n      <td>...</td>\n    </tr>\n    <tr>\n      <th>95</th>\n      <td>4</td>\n      <td>3004</td>\n      <td>1.0</td>\n      <td>1042668521</td>\n    </tr>\n    <tr>\n      <th>96</th>\n      <td>4</td>\n      <td>3005</td>\n      <td>3.0</td>\n      <td>1042668544</td>\n    </tr>\n    <tr>\n      <th>97</th>\n      <td>4</td>\n      <td>3114</td>\n      <td>5.0</td>\n      <td>1042672580</td>\n    </tr>\n    <tr>\n      <th>98</th>\n      <td>4</td>\n      <td>3160</td>\n      <td>4.0</td>\n      <td>1042672335</td>\n    </tr>\n    <tr>\n      <th>99</th>\n      <td>4</td>\n      <td>3203</td>\n      <td>4.0</td>\n      <td>1042668576</td>\n    </tr>\n  </tbody>\n</table>\n<p>100 rows × 4 columns</p>\n</div>",
      "text/plain": "    userId  movieId  rating   timestamp\n0        1      110     1.0  1425941529\n1        1      147     4.5  1425942435\n2        1      858     5.0  1425941523\n3        1     1221     5.0  1425941546\n4        1     1246     5.0  1425941556\n..     ...      ...     ...         ...\n95       4     3004     1.0  1042668521\n96       4     3005     3.0  1042668544\n97       4     3114     5.0  1042672580\n98       4     3160     4.0  1042672335\n99       4     3203     4.0  1042668576\n\n[100 rows x 4 columns]"
     },
     "metadata": {},
     "execution_count": 7
    }
   ],
   "source": [
    "ratings"
   ]
  },
  {
   "cell_type": "code",
   "execution_count": null,
   "metadata": {},
   "outputs": [],
   "source": []
  }
 ],
 "metadata": {
  "language_info": {
   "codemirror_mode": {
    "name": "ipython",
    "version": 3
   },
   "file_extension": ".py",
   "mimetype": "text/x-python",
   "name": "python",
   "nbconvert_exporter": "python",
   "pygments_lexer": "ipython3",
   "version": "3.5.9-final"
  },
  "orig_nbformat": 2,
  "kernelspec": {
   "name": "python35964bitd64f83c1351d48cba4de8d31f561fd21",
   "display_name": "Python 3.5.9 64-bit"
  }
 },
 "nbformat": 4,
 "nbformat_minor": 2
}