{
 "cells": [
  {
   "cell_type": "code",
   "execution_count": 27,
   "metadata": {},
   "outputs": [],
   "source": [
    "import pandas as pd\n",
    "import os\n",
    "import json\n",
    "import sys \n",
    "import traceback"
   ]
  },
  {
   "cell_type": "code",
   "execution_count": 3,
   "metadata": {},
   "outputs": [],
   "source": [
    "movies_path = os.path.join(os.path.join(os.getcwd(),'Datasets'),'movies_dataset')\n",
    "\n",
    "metadata_path = os.path.join(movies_path,'movies_metadata.csv')\n",
    "ratings_path = os.path.join(movies_path,'ratings.csv')"
   ]
  },
  {
   "cell_type": "code",
   "execution_count": 9,
   "metadata": {},
   "outputs": [],
   "source": [
    "metadata = pd.read_csv(metadata_path)\n",
    "ratings = pd.read_csv(ratings_path, nrows=100)"
   ]
  },
  {
   "cell_type": "code",
   "execution_count": 10,
   "metadata": {},
   "outputs": [
    {
     "output_type": "execute_result",
     "data": {
      "text/plain": "Index(['adult', 'belongs_to_collection', 'budget', 'genres', 'homepage', 'id',\n       'imdb_id', 'original_language', 'original_title', 'overview',\n       'popularity', 'poster_path', 'production_companies',\n       'production_countries', 'release_date', 'revenue', 'runtime',\n       'spoken_languages', 'status', 'tagline', 'title', 'video',\n       'vote_average', 'vote_count'],\n      dtype='object')"
     },
     "metadata": {},
     "execution_count": 10
    }
   ],
   "source": [
    "metadata.columns"
   ]
  },
  {
   "cell_type": "code",
   "execution_count": 21,
   "metadata": {},
   "outputs": [
    {
     "output_type": "execute_result",
     "data": {
      "text/plain": "0                 [{'iso_639_1': 'en', 'name': 'English'}]\n1        [{'iso_639_1': 'en', 'name': 'English'}, {'iso...\n2                 [{'iso_639_1': 'en', 'name': 'English'}]\n3                 [{'iso_639_1': 'en', 'name': 'English'}]\n4                 [{'iso_639_1': 'en', 'name': 'English'}]\n                               ...                        \n45461               [{'iso_639_1': 'fa', 'name': 'فارسی'}]\n45462                    [{'iso_639_1': 'tl', 'name': ''}]\n45463             [{'iso_639_1': 'en', 'name': 'English'}]\n45464                                                   []\n45465             [{'iso_639_1': 'en', 'name': 'English'}]\nName: spoken_languages, Length: 45466, dtype: object"
     },
     "metadata": {},
     "execution_count": 21
    }
   ],
   "source": [
    "metadata.spoken_languages"
   ]
  },
  {
   "cell_type": "code",
   "execution_count": 28,
   "metadata": {
    "tags": []
   },
   "outputs": [
    {
     "output_type": "stream",
     "name": "stdout",
     "text": "------------------------------------------------------------\nTraceback (most recent call last):\n  File \"<ipython-input-28-b0886b57e325>\", line 40, in <module>\n    prod_comp_row = eval(metadata.iloc[index,:].production_companies)\nTypeError: eval() arg 1 must be a string, bytes or code object\n------------------------------------------------------------\n------------------------------------------------------------\nTraceback (most recent call last):\n  File \"<ipython-input-28-b0886b57e325>\", line 7, in <module>\n    id_row = int(metadata.iloc[index,:].id)\nValueError: invalid literal for int() with base 10: '1997-08-20'\n------------------------------------------------------------\n------------------------------------------------------------\nTraceback (most recent call last):\n  File \"<ipython-input-28-b0886b57e325>\", line 40, in <module>\n    prod_comp_row = eval(metadata.iloc[index,:].production_companies)\nTypeError: eval() arg 1 must be a string, bytes or code object\n------------------------------------------------------------\n------------------------------------------------------------\nTraceback (most recent call last):\n  File \"<ipython-input-28-b0886b57e325>\", line 7, in <module>\n    id_row = int(metadata.iloc[index,:].id)\nValueError: invalid literal for int() with base 10: '2012-09-29'\n------------------------------------------------------------\n------------------------------------------------------------\nTraceback (most recent call last):\n  File \"<ipython-input-28-b0886b57e325>\", line 40, in <module>\n    prod_comp_row = eval(metadata.iloc[index,:].production_companies)\nTypeError: eval() arg 1 must be a string, bytes or code object\n------------------------------------------------------------\n------------------------------------------------------------\nTraceback (most recent call last):\n  File \"<ipython-input-28-b0886b57e325>\", line 7, in <module>\n    id_row = int(metadata.iloc[index,:].id)\nValueError: invalid literal for int() with base 10: '2014-01-01'\n------------------------------------------------------------\n"
    }
   ],
   "source": [
    "nrows = metadata.shape[0]\n",
    "\n",
    "movies = {}\n",
    "for index in range(nrows):\n",
    "    # get the id of the movie\n",
    "    try:\n",
    "        id_row = int(metadata.iloc[index,:].id)\n",
    "    except:\n",
    "        print('-'*60)\n",
    "        traceback.print_exc(file=sys.stdout)\n",
    "        print('-'*60)\n",
    "        continue\n",
    "\n",
    "    # get the genres of the movie\n",
    "    try:\n",
    "         genres_row = eval(metadata.iloc[index,:].genres)\n",
    "         genres_list = []\n",
    "         for genres_dict in genres_row:\n",
    "            id_ = genres_dict['id']\n",
    "            genres_list.append(id_)\n",
    "    except:\n",
    "        print('-'*60)\n",
    "        traceback.print_exc(file=sys.stdout)\n",
    "        print('-'*60)\n",
    "        continue\n",
    "\n",
    "    # get original language\n",
    "    try:\n",
    "         original_row = metadata.iloc[index,:].original_language\n",
    "    except:\n",
    "        print('-'*60)\n",
    "        traceback.print_exc(file=sys.stdout)\n",
    "        print('-'*60)\n",
    "        continue\n",
    "\n",
    "    \n",
    "    # get the production companies\n",
    "    try:\n",
    "        prod_comp_list = []\n",
    "        prod_comp_row = eval(metadata.iloc[index,:].production_companies)\n",
    "        for prod_comp_dict in prod_comp_row:\n",
    "            id_ = prod_comp_dict['id']\n",
    "            prod_comp_list.append(id_)\n",
    "    except:\n",
    "        print('-'*60)\n",
    "        traceback.print_exc(file=sys.stdout)\n",
    "        print('-'*60)\n",
    "        continue\n",
    "\n",
    "    # get the production countries\n",
    "    try:\n",
    "        prod_countries_list = []\n",
    "        prod_countries_row = eval(metadata.iloc[index,:].production_countries)\n",
    "        for prod_countries_dict in prod_countries_row:\n",
    "            country = prod_countries_dict['iso_3166_1']\n",
    "            prod_countries_list.append(country)\n",
    "    except:\n",
    "        print('-'*60)\n",
    "        traceback.print_exc(file=sys.stdout)\n",
    "        print('-'*60)\n",
    "        continue\n",
    "\n",
    "    # get the production countries\n",
    "    try:\n",
    "        spoken_languages_list = []\n",
    "        spoken_languages_row = eval(metadata.iloc[index,:].spoken_languages)\n",
    "        for spoken_languages_dict in spoken_languages_row:\n",
    "            spoken_language = spoken_languages_dict['iso_639_1']\n",
    "            spoken_languages_list.append(spoken_language)\n",
    "    except:\n",
    "        print('-'*60)\n",
    "        traceback.print_exc(file=sys.stdout)\n",
    "        print('-'*60)\n",
    "        continue\n",
    "\n",
    "    movies[id_row] = {'genres':genres_list,\n",
    "                    'original_language':original_row,\n",
    "                    'production_companies':prod_comp_list,\n",
    "                    'production_countries': prod_countries_list,\n",
    "                    'spoken_language':spoken_languages_list}\n",
    "   "
   ]
  },
  {
   "cell_type": "code",
   "execution_count": 29,
   "metadata": {},
   "outputs": [
    {
     "output_type": "execute_result",
     "data": {
      "text/plain": "45430"
     },
     "metadata": {},
     "execution_count": 29
    }
   ],
   "source": [
    "len(movies)"
   ]
  },
  {
   "cell_type": "code",
   "execution_count": 7,
   "metadata": {},
   "outputs": [
    {
     "output_type": "execute_result",
     "data": {
      "text/html": "<div>\n<style scoped>\n    .dataframe tbody tr th:only-of-type {\n        vertical-align: middle;\n    }\n\n    .dataframe tbody tr th {\n        vertical-align: top;\n    }\n\n    .dataframe thead th {\n        text-align: right;\n    }\n</style>\n<table border=\"1\" class=\"dataframe\">\n  <thead>\n    <tr style=\"text-align: right;\">\n      <th></th>\n      <th>userId</th>\n      <th>movieId</th>\n      <th>rating</th>\n      <th>timestamp</th>\n    </tr>\n  </thead>\n  <tbody>\n    <tr>\n      <th>0</th>\n      <td>1</td>\n      <td>110</td>\n      <td>1.0</td>\n      <td>1425941529</td>\n    </tr>\n    <tr>\n      <th>1</th>\n      <td>1</td>\n      <td>147</td>\n      <td>4.5</td>\n      <td>1425942435</td>\n    </tr>\n    <tr>\n      <th>2</th>\n      <td>1</td>\n      <td>858</td>\n      <td>5.0</td>\n      <td>1425941523</td>\n    </tr>\n    <tr>\n      <th>3</th>\n      <td>1</td>\n      <td>1221</td>\n      <td>5.0</td>\n      <td>1425941546</td>\n    </tr>\n    <tr>\n      <th>4</th>\n      <td>1</td>\n      <td>1246</td>\n      <td>5.0</td>\n      <td>1425941556</td>\n    </tr>\n    <tr>\n      <th>...</th>\n      <td>...</td>\n      <td>...</td>\n      <td>...</td>\n      <td>...</td>\n    </tr>\n    <tr>\n      <th>95</th>\n      <td>4</td>\n      <td>3004</td>\n      <td>1.0</td>\n      <td>1042668521</td>\n    </tr>\n    <tr>\n      <th>96</th>\n      <td>4</td>\n      <td>3005</td>\n      <td>3.0</td>\n      <td>1042668544</td>\n    </tr>\n    <tr>\n      <th>97</th>\n      <td>4</td>\n      <td>3114</td>\n      <td>5.0</td>\n      <td>1042672580</td>\n    </tr>\n    <tr>\n      <th>98</th>\n      <td>4</td>\n      <td>3160</td>\n      <td>4.0</td>\n      <td>1042672335</td>\n    </tr>\n    <tr>\n      <th>99</th>\n      <td>4</td>\n      <td>3203</td>\n      <td>4.0</td>\n      <td>1042668576</td>\n    </tr>\n  </tbody>\n</table>\n<p>100 rows × 4 columns</p>\n</div>",
      "text/plain": "    userId  movieId  rating   timestamp\n0        1      110     1.0  1425941529\n1        1      147     4.5  1425942435\n2        1      858     5.0  1425941523\n3        1     1221     5.0  1425941546\n4        1     1246     5.0  1425941556\n..     ...      ...     ...         ...\n95       4     3004     1.0  1042668521\n96       4     3005     3.0  1042668544\n97       4     3114     5.0  1042672580\n98       4     3160     4.0  1042672335\n99       4     3203     4.0  1042668576\n\n[100 rows x 4 columns]"
     },
     "metadata": {},
     "execution_count": 7
    }
   ],
   "source": [
    "ratings"
   ]
  }
 ],
 "metadata": {
  "language_info": {
   "codemirror_mode": {
    "name": "ipython",
    "version": 3
   },
   "file_extension": ".py",
   "mimetype": "text/x-python",
   "name": "python",
   "nbconvert_exporter": "python",
   "pygments_lexer": "ipython3",
   "version": "3.5.9-final"
  },
  "orig_nbformat": 2,
  "kernelspec": {
   "name": "python35964bitd64f83c1351d48cba4de8d31f561fd21",
   "display_name": "Python 3.5.9 64-bit"
  }
 },
 "nbformat": 4,
 "nbformat_minor": 2
}